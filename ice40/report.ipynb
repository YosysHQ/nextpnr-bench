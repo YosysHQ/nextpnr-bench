{
 "cells": [
  {
   "cell_type": "code",
   "execution_count": null,
   "metadata": {
    "collapsed": false
   },
   "outputs": [],
   "source": [
    "%matplotlib inline\n",
    "import numpy as np\n",
    "import matplotlib.pyplot as plt\n",
    "from IPython.display import HTML, display\n",
    "\n",
    "designs = \"\"\"\n",
    "    design01-hx8k\n",
    "    design02-hx1k\n",
    "    design02-hx8k\n",
    "    design03-up5k\n",
    "\"\"\".split()\n",
    "\n",
    "tools = \"\"\"\n",
    "    arachne\n",
    "    nextpnr\n",
    "\"\"\".split()\n",
    "\n",
    "data = dict()\n",
    "\n",
    "for d in designs:\n",
    "    for i in range(10):\n",
    "        for t in tools:\n",
    "            maxfreq = None\n",
    "            runtime = None\n",
    "            with open(\"%s-%d-%s.log\" % (d, i, t), \"r\") as f:\n",
    "                for line in f:\n",
    "                    line = line.split(\"=\")\n",
    "                    runtime = float(line[1]) / 60\n",
    "            with open(\"%s-%d-%s.rpt\" % (d, i, t), \"r\") as f:\n",
    "                for line in f:\n",
    "                    if line.startswith(\"Total path delay:\"):\n",
    "                        line = line.split()\n",
    "                        maxfreq = 1000 / float(line[3])\n",
    "            data[d, i, t] = (maxfreq, runtime)"
   ]
  },
  {
   "cell_type": "code",
   "execution_count": null,
   "metadata": {
    "collapsed": false,
    "scrolled": false
   },
   "outputs": [],
   "source": [
    "for d in designs:\n",
    "    plt.figure(figsize=(9, 2))\n",
    "    for data_idx, data_title, data_unit in [(0, \"maxfreq\", \"MHz\"), (1, \"runtime\", \"min\")]:\n",
    "        plt.subplot(1, 2, data_idx+1)\n",
    "        for xoff, t, c in [(0, \"arachne\", \"r\"), (15, \"nextpnr\", \"g\")]:\n",
    "            y = np.zeros(10)\n",
    "            y2 = np.zeros(10)\n",
    "            null_y = 0\n",
    "            for i in range(10):\n",
    "                v = data[d, i, t][data_idx]\n",
    "                y[i] = v if v is not None else 0.0\n",
    "                y2[i] = 1.0 if v is None else 0.0\n",
    "            plt.bar(xoff+np.arange(10), y, 1, color=c)\n",
    "            plt.bar(xoff+np.arange(10), y2 * np.max(y)/2, 1, color='k')\n",
    "        plt.ylabel(\"%s (%s)\" % (data_title, data_unit))\n",
    "        plt.xticks([5, 20], [\"arachne\", \"nextpnr\"])\n",
    "        plt.grid(axis=\"y\")\n",
    "    plt.suptitle(d)\n",
    "    plt.subplots_adjust(wspace=0.3, top=0.8)\n",
    "    plt.show()"
   ]
  },
  {
   "cell_type": "code",
   "execution_count": null,
   "metadata": {
    "collapsed": false
   },
   "outputs": [],
   "source": [
    "html = list()\n",
    "\n",
    "html.append('<table>\\n')\n",
    "html.append('<tr><td></td><th colspan=2 style=\"text-align:center\">maxfreq</th>'\n",
    "            '<th colspan=2 style=\"text-align:center\">runtime</th></tr>\\n')\n",
    "html.append('<tr><th style=\"text-align:center\">design</th>'\n",
    "            '<th style=\"text-align:center\">arachne</th><th style=\"text-align:center\">nextpnr</th>'\n",
    "            '<th style=\"text-align:center\">arachne</th><th style=\"text-align:center\">nextpnr</th></tr>\\n')\n",
    "\n",
    "for d in designs:\n",
    "    html.append(\"<tr><td>%s</td>\" % d)\n",
    "    for data_idx, data_title, data_unit in [(0, \"maxfreq\", \"MHz\"), (1, \"runtime\", \"min\")]:\n",
    "        for t in tools:\n",
    "            vals = np.array([v for v in [data[d, i, t][data_idx] for i in range(10)] if v is not None])\n",
    "            html.append('<td style=\"text-align:right\">%.2f (&plusmn; %.2f) %s</td>' % (np.mean(vals), np.std(vals), data_unit))\n",
    "    html.append(\"</tr>\\n\")\n",
    "    \n",
    "html.append(\"</table>\\n\")\n",
    "display(HTML(\"\".join(html)))"
   ]
  }
 ],
 "metadata": {
  "kernelspec": {
   "display_name": "Python 3",
   "language": "python",
   "name": "python3"
  },
  "language_info": {
   "codemirror_mode": {
    "name": "ipython",
    "version": 3
   },
   "file_extension": ".py",
   "mimetype": "text/x-python",
   "name": "python",
   "nbconvert_exporter": "python",
   "pygments_lexer": "ipython3",
   "version": "3.5.2"
  }
 },
 "nbformat": 4,
 "nbformat_minor": 1
}
